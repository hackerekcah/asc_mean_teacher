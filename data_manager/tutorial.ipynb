{
 "cells": [
  {
   "cell_type": "code",
   "execution_count": 1,
   "metadata": {},
   "outputs": [],
   "source": [
    "from data_manager.dcase18_taskb import Dcase18TaskbData\n",
    "from data_manager.taskb_standrizer import TaskbStandarizer\n",
    "import h5py"
   ]
  },
  {
   "cell_type": "code",
   "execution_count": 2,
   "metadata": {},
   "outputs": [
    {
     "name": "stderr",
     "output_type": "stream",
     "text": [
      "10080it [00:00, 337168.62it/s]\n"
     ]
    }
   ],
   "source": [
    "data_manager = Dcase18TaskbData()\n",
    "data_stdrizer = TaskbStandarizer(data_manager=data_manager)"
   ]
  },
  {
   "cell_type": "code",
   "execution_count": 3,
   "metadata": {},
   "outputs": [
    {
     "data": {
      "text/plain": [
       "'/data/songhongwei/proj/asc_mean_teacher/data_manager'"
      ]
     },
     "execution_count": 3,
     "metadata": {},
     "output_type": "execute_result"
    }
   ],
   "source": [
    "%pwd"
   ]
  },
  {
   "cell_type": "code",
   "execution_count": 4,
   "metadata": {},
   "outputs": [
    {
     "name": "stdout",
     "output_type": "stream",
     "text": [
      "TaskbDev.h5\t\t TaskbDevMatrix.h5\r\n",
      "TaskbDevMatrixFnames.h5  TaskbDevMatrixScaler.h5\r\n"
     ]
    }
   ],
   "source": [
    "!ls data_h5"
   ]
  },
  {
   "cell_type": "code",
   "execution_count": 5,
   "metadata": {},
   "outputs": [
    {
     "name": "stdout",
     "output_type": "stream",
     "text": [
      "test a (2518, 40, 500)\n",
      "test b (180, 40, 500)\n",
      "test c (180, 40, 500)\n",
      "test p (180, 40, 500)\n",
      "train a (6122, 40, 500)\n",
      "train b (540, 40, 500)\n",
      "train c (540, 40, 500)\n",
      "train p (540, 40, 500)\n"
     ]
    }
   ],
   "source": [
    "with h5py.File('data_h5/TaskbDevMatrix.h5', 'r') as f:\n",
    "    # print(list(f.keys()))\n",
    "    for mode in f.keys():\n",
    "        devices = f[mode].keys()\n",
    "        # print(list(devices))\n",
    "        for device in devices:\n",
    "            print(mode, device, f[mode][device]['data'].shape)"
   ]
  },
  {
   "cell_type": "code",
   "execution_count": 6,
   "metadata": {},
   "outputs": [
    {
     "name": "stdout",
     "output_type": "stream",
     "text": [
      "[LOGGING]: Loading train abc of shape:  (7202, 40, 500)\n"
     ]
    }
   ],
   "source": [
    "x, y = data_manager.load_dev(mode='train', devices='abc')"
   ]
  },
  {
   "cell_type": "code",
   "execution_count": 7,
   "metadata": {},
   "outputs": [
    {
     "name": "stdout",
     "output_type": "stream",
     "text": [
      "[LOGGING]: Loading train a of shape:  (6122, 40, 500)\n",
      "[LOGGING]Normalize using device a\n"
     ]
    }
   ],
   "source": [
    "x_a, y_a = data_stdrizer.load_dev_standrized(mode='train', device='a', norm_device='a')"
   ]
  },
  {
   "cell_type": "code",
   "execution_count": null,
   "metadata": {},
   "outputs": [],
   "source": []
  }
 ],
 "metadata": {
  "kernelspec": {
   "display_name": "Python 3",
   "language": "python",
   "name": "python3"
  },
  "language_info": {
   "codemirror_mode": {
    "name": "ipython",
    "version": 3
   },
   "file_extension": ".py",
   "mimetype": "text/x-python",
   "name": "python",
   "nbconvert_exporter": "python",
   "pygments_lexer": "ipython3",
   "version": "3.6.6"
  }
 },
 "nbformat": 4,
 "nbformat_minor": 2
}
